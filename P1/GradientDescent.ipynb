{
 "cells": [
  {
   "cell_type": "code",
   "execution_count": 2,
   "metadata": {
    "collapsed": false
   },
   "outputs": [
    {
     "name": "stdout",
     "output_type": "stream",
     "text": [
      "Populating the interactive namespace from numpy and matplotlib\n"
     ]
    }
   ],
   "source": [
    "import pylab as pl\n",
    "%pylab inline\n",
    "import numpy as np\n",
    "import pandas \n",
    "import gradientDescent as gd\n",
    "import loadParametersP1 as params\n",
    "import loadFittingDataP1 as fitData\n"
   ]
  },
  {
   "cell_type": "markdown",
   "metadata": {},
   "source": [
    "# 1. Implement a basic gradient descent procedure to minimize scalar functions of a vector argument.\n",
    "Write it generically, so that you can easily specify the objective function and the function\n",
    "to compute the gradient. You should be able to specify the initial guess, the step size (or learning\n",
    "rate) and the convergence criterion (e.g., a threshold such that the algorithm terminates\n",
    "when the difference in objective function value on two successive steps is below this threshold\n",
    "or when the norm of the gradient is below this threshold). For this question, you can use a\n",
    "fixed step size in your implementation. Test your gradient descent procedure on two functions\n",
    "with the parameters provided by us in parametersp1.txt (for data files, we also provide basic\n",
    "reading scripts for MATLAB and Python): the negative of a Gaussian function and a quadratic\n",
    "bowl. Discuss (and illustrate) the effect of the choice of starting guess, the step size, and the\n",
    "convergence criterion on the resulting solution, as well as how the norm of the gradient evolves\n",
    "through the iteration.\n",
    "\n",
    "Things to Do:\n",
    "\n",
    "1. Test gradient descent procedure on the given functions and parameteres\n",
    "\n",
    "2. Study the effect of the choice of\n",
    "    1. starting guess\n",
    "    2. step size\n",
    "    3. convergence criteria\n",
    "3. Study how the norm of the gradient evolves"
   ]
  },
  {
   "cell_type": "code",
   "execution_count": 3,
   "metadata": {
    "collapsed": false
   },
   "outputs": [
    {
     "name": "stdout",
     "output_type": "stream",
     "text": [
      "Gaussian converged to:  -0.000159154630586 with [ 10.02403922  10.05787218]  in  6133  iterations.\n"
     ]
    }
   ],
   "source": [
    "# Load parameters\n",
    "gaussMean,gaussCov,quadBowlA,quadBowlb = params.getData()\n",
    "\n",
    "# Test implementation of gradient descent on Gaussian function\n",
    "\n",
    "objective_fn = lambda x : gd.computeGaussian(x, gaussMean, gaussCov)\n",
    "gradient_fn = lambda x: gd.differentiateGaussian(x, gaussMean, gaussCov)\n",
    "                                                                                        \n",
    "best_guess, best_value, guess, fxn, grad_norm = gd.gradientDescent(objective_fn,\n",
    "                                                              gradient_fn,\n",
    "                                                              initial_guess= [np.random.randint(0,100),np.random.randint(0,100)], \n",
    "                                                              step_size=10000,\n",
    "                                                              convergence = 1e-12)\n",
    "\n",
    "num_iters = len(grad_norm)\n",
    "print 'Gaussian converged to: ', best_value, 'with', best_guess, ' in ', num_iters, ' iterations.'"
   ]
  },
  {
   "cell_type": "code",
   "execution_count": 6,
   "metadata": {
    "collapsed": false
   },
   "outputs": [
    {
     "name": "stdout",
     "output_type": "stream",
     "text": [
      "Evolution of gradient norm\n"
     ]
    },
    {
     "data": {
      "image/png": "[encoded data removed]",
      "text/plain": [
       "<matplotlib.figure.Figure at 0x9e9b710>"
      ]
     },
     "metadata": {},
     "output_type": "display_data"
    },
    {
     "name": "stdout",
     "output_type": "stream",
     "text": [
      "Evolution of function value\n"
     ]
    },
    {
     "data": {
      "image/png": "[encoded data removed]",
      "text/plain": [
       "<matplotlib.figure.Figure at 0xa0f8e48>"
      ]
     },
     "metadata": {},
     "output_type": "display_data"
    }
   ],
   "source": [
    "# Plot how the norm changes over time \n",
    "print 'Evolution of gradient norm'#, norm\n",
    "pl.plot(range(num_iters), grad_norm)\n",
    "pl.show()\n",
    "\n",
    "# Plot how the function value changes over time\n",
    "print 'Evolution of function value'\n",
    "pl.plot(range(num_iters), fxn)\n",
    "pl.show()"
   ]
  },
  {
   "cell_type": "markdown",
   "metadata": {},
   "source": [
    "Now, test the implementation of the quadratic bowl using the given parameters."
   ]
  },
  {
   "cell_type": "code",
   "execution_count": 4,
   "metadata": {
    "collapsed": false
   },
   "outputs": [
    {
     "name": "stdout",
     "output_type": "stream",
     "text": [
      "Quadratic Bowl converged to:  -21333.3333384 [ 26.6118088   26.72152455]  in  135  iterations.\n"
     ]
    }
   ],
   "source": [
    "# Load parameters\n",
    "gaussMean,gaussCov,quadBowlA,quadBowlb = params.getData()\n",
    "\n",
    "# Test implementation of gradient descent on the Quadratic Bowl\n",
    "\n",
    "objective_fn = lambda x : gd.computeQuadBowl(x,quadBowlA,quadBowlb)\n",
    "gradient_fn = lambda x: gd.differentiateQuadBowl(x, quadBowlA,quadBowlb)\n",
    "\n",
    "best_guess, best_value, guess, fxn, norm = gd.gradientDescent(objective_fn,\n",
    "                                                              gradient_fn,\n",
    "                                                              initial_guess= [np.random.randint(-100,100),np.random.randint(-100,100)], \n",
    "                                                              step_size=0.01,\n",
    "                                                              convergence = 1e-6)\n",
    "\n",
    "num_iters = len(norm)\n",
    "print 'Quadratic Bowl converged to: ', best_value, best_guess, ' in ', num_iters, ' iterations.'"
   ]
  },
  {
   "cell_type": "code",
   "execution_count": 5,
   "metadata": {
    "collapsed": false
   },
   "outputs": [
    {
     "name": "stdout",
     "output_type": "stream",
     "text": [
      "Evolution of gradient norm\n"
     ]
    },
    {
     "data": {
      "image/png": "[encoded data removed]",
      "text/plain": [
       "<matplotlib.figure.Figure at 0xaa405f8>"
      ]
     },
     "metadata": {},
     "output_type": "display_data"
    },
    {
     "name": "stdout",
     "output_type": "stream",
     "text": [
      "Evolution of function value\n"
     ]
    },
    {
     "data": {
      "image/png": "[encoded data removed]",
      "text/plain": [
       "<matplotlib.figure.Figure at 0xae3f320>"
      ]
     },
     "metadata": {},
     "output_type": "display_data"
    }
   ],
   "source": [
    "# Plot how the norm changes over time \n",
    "print 'Evolution of gradient norm'#, norm\n",
    "pl.plot(range(num_iters), norm)\n",
    "pl.show()\n",
    "\n",
    "# Plot how the function value changes over time\n",
    "print 'Evolution of function value'\n",
    "pl.plot(range(num_iters), fxn)\n",
    "pl.show()"
   ]
  },
  {
   "cell_type": "markdown",
   "metadata": {},
   "source": [
    "### Choice of starting guess, step size and convergence criteria\n",
    "Discuss (and illustrate) the effect of the choice of starting guess, the step size, and the\n",
    "convergence criterion on the resulting solution, as well as how the norm of the gradient evolves\n",
    "through the iteration."
   ]
  },
  {
   "cell_type": "code",
   "execution_count": 21,
   "metadata": {
    "collapsed": false
   },
   "outputs": [
    {
     "name": "stdout",
     "output_type": "stream",
     "text": [
      "Ran for  0.001\n",
      "Ran for  0.1\n",
      "Ran for  100.0\n",
      "Ran for  1000.0\n",
      "Ran for  10000.0\n",
      "Ran for  100000.0\n",
      "Ran for  1000000.0\n",
      "Ran for  10000000.0\n",
      "Variation In Convergence Value\n"
     ]
    },
    {
     "data": {
      "image/png": "[encoded data removed]",
      "text/plain": [
       "<matplotlib.figure.Figure at 0xa88e6a0>"
      ]
     },
     "metadata": {},
     "output_type": "display_data"
    },
    {
     "name": "stdout",
     "output_type": "stream",
     "text": [
      "Variation In Convergence Value\n"
     ]
    },
    {
     "data": {
      "image/png": "[encoded data removed]",
      "text/plain": [
       "<matplotlib.figure.Figure at 0xa25de80>"
      ]
     },
     "metadata": {},
     "output_type": "display_data"
    },
    {
     "name": "stdout",
     "output_type": "stream",
     "text": [
      "[-1.4366199817929673e-05, -5.4673450406361381e-05, -0.00015591503234348134, -0.00015883998273845073, -0.00015912362233210336, -0.000159151920458993, -0.00015915477206832092, -0.00015915491758762757]\n",
      "[2, 2, 128613, 23863, 3430, 1096, 37, 14]\n",
      "10000000.0\n"
     ]
    }
   ],
   "source": [
    "# Test the effect of the step size on the number of iterations to convergence and on the solution converged to\n",
    "\n",
    "# Load parameters\n",
    "gaussMean,gaussCov,quadBowlA,quadBowlb = params.getData()\n",
    "\n",
    "# Test implementation of gradient descent on Gaussian function\n",
    "\n",
    "objective_fn = lambda x : gd.computeGaussian(x, gaussMean, gaussCov)\n",
    "gradient_fn = lambda x: gd.differentiateGaussian(x, gaussMean, gaussCov)\n",
    "\n",
    "def test_step(step_size):\n",
    "    best_guess, best_value, guess, fxn, norm = gd.gradientDescent(objective_fn,\n",
    "                                                              gradient_fn,\n",
    "                                                              initial_guess= [np.random.randint(-100,100),np.random.randint(-100,100)], \n",
    "                                                              step_size=step_size,\n",
    "                                                              convergence = 1e-10)\n",
    "    return best_value, len(fxn) #function value, number iterations\n",
    "\n",
    "step_sizes = [1e-3,1e-1,1e2,1e3,1e4,1e5,1e6,1e7]\n",
    "\n",
    "values= []\n",
    "iters = []\n",
    "\n",
    "for step_size in step_sizes:\n",
    "    print 'Ran for ', step_size\n",
    "    val, its = test_step(step_size)\n",
    "    values.append(val)\n",
    "    iters.append(its)\n",
    "    \n",
    "\n",
    "\n",
    "# Plot the variation in convergence value as a function of step_size\n",
    "print 'Variation In Convergence Value'\n",
    "pl.plot(np.log(step_sizes), values)\n",
    "pl.title('Variation In Convergence Value')\n",
    "pl.show()\n",
    "# Plot the variation in number of iterations as a function of step_size\n",
    "print 'Variation In Convergence Value'\n",
    "pl.plot(np.log(step_sizes), iters)\n",
    "pl.title('Variation In Iterations')\n",
    "pl.show()\n",
    "\n",
    "print values\n",
    "print iters\n",
    "print step_size\n",
    "\n",
    "\n",
    "#TO DO: Show several plots of how the norm of the gradient changes."
   ]
  },
  {
   "cell_type": "code",
   "execution_count": 11,
   "metadata": {
    "collapsed": true
   },
   "outputs": [],
   "source": [
    "# Test the effect of the convergence criteria on the number of iterations to convergence and on the solution converged to\n",
    "\n",
    "def test_convergence(rate):\n",
    "    best_guess, best_value, guess, fxn, norm = gd.gradientDescent(objective_fn,\n",
    "                                                              gradient_fn,\n",
    "                                                              initial_guess= [np.random.randint(-100,100),np.random.randint(-100,100)], \n",
    "                                                              step_size= 1000,\n",
    "                                                              convergence = rate)\n",
    "    return best_value, len(fxn) #function value, number iterations\n",
    "\n",
    "criteria = [1e-10, 1e-8, 1e-6, 1e-4, 1e-2, 1, 10]\n",
    "\n",
    "values= []\n",
    "iters = []\n",
    "\n",
    "for rate in criteria:\n",
    "    val, its = test_convergence(rate)\n",
    "    values.append(val)\n",
    "    iters.append(its)\n",
    "    \n",
    "# Plot the variation in convergence value as a function of step_size\n",
    "\n",
    "# Plot the variation in number of iterations as a function of step_size\n"
   ]
  },
  {
   "cell_type": "code",
   "execution_count": null,
   "metadata": {
    "collapsed": true
   },
   "outputs": [],
   "source": [
    "# Test the effect of the starting guess on the number of iterations to convergence and on the solution converged to\n",
    "\n",
    "TO DO -  FIX THIS PART\n",
    "\n",
    "def test_convergence(rate):\n",
    "    best_guess, best_value, guess, fxn, norm = gd.gradientDescent(objective_fn,\n",
    "                                                              gradient_fn,\n",
    "                                                              initial_guess= [np.random.randint(-100,100),np.random.randint(-100,100)], \n",
    "                                                              step_size= 1000,\n",
    "                                                              convergence = rate)\n",
    "    return best_value, len(fxn) #function value, number iterations\n",
    "\n",
    "criteria = [1e-10, 1e-8, 1e-6, 1e-4, 1e-2, 1, 10]\n",
    "\n",
    "values= []\n",
    "iters = []\n",
    "\n",
    "for rate in criteria:\n",
    "    val, its = test_convergence(rate)\n",
    "    values.append(val)\n",
    "    iters.append(its)\n",
    "    \n",
    "# Plot the variation in convergence value as a function of step_size\n",
    "\n",
    "# Plot the variation in number of iterations as a function of step_size\n"
   ]
  },
  {
   "cell_type": "markdown",
   "metadata": {},
   "source": [
    "# 2. The gradient function may not always look as simple and clean as the ones provided above. \n",
    "A common way to check if one’s gradient evaluation is correct or not is to use the central difference\n",
    "approximation (see the “Finite difference” article in Wikipedia) to numerically evaluate\n",
    "the gradient at various points. Write code to approximate the gradient of a function numerically\n",
    "at a given point using this method. Verify the gradient values on the functions you used\n",
    "in the question above by comparing the closed-form and numerical gradients at various points.\n",
    "Discuss the effect of changing the difference step (or $\\delta$) on the accuracy of the gradient\n",
    "evaluation.\n"
   ]
  },
  {
   "cell_type": "code",
   "execution_count": null,
   "metadata": {
    "collapsed": true
   },
   "outputs": [],
   "source": [
    "# For various values of delta, calculate the gradient using the closed form and the approximation of Gaussian\n",
    "# use 2-D points?"
   ]
  },
  {
   "cell_type": "code",
   "execution_count": 19,
   "metadata": {
    "collapsed": false
   },
   "outputs": [
    {
     "ename": "LinAlgError",
     "evalue": "0-dimensional array given. Array must be at least two-dimensional",
     "output_type": "error",
     "traceback": [
      "\u001b[1;31m---------------------------------------------------------------------------\u001b[0m",
      "\u001b[1;31mLinAlgError\u001b[0m                               Traceback (most recent call last)",
      "\u001b[1;32m<ipython-input-19-9bbc875880b4>\u001b[0m in \u001b[0;36m<module>\u001b[1;34m()\u001b[0m\n\u001b[0;32m     12\u001b[0m     \u001b[0mpoint\u001b[0m \u001b[1;33m=\u001b[0m \u001b[1;33m-\u001b[0m\u001b[1;36m100\u001b[0m \u001b[1;33m+\u001b[0m \u001b[1;36m200\u001b[0m\u001b[1;33m*\u001b[0m \u001b[0mnp\u001b[0m\u001b[1;33m.\u001b[0m\u001b[0mrandom\u001b[0m\u001b[1;33m.\u001b[0m\u001b[0mrandom\u001b[0m\u001b[1;33m(\u001b[0m\u001b[1;33m)\u001b[0m\u001b[1;33m\u001b[0m\u001b[0m\n\u001b[0;32m     13\u001b[0m \u001b[1;33m\u001b[0m\u001b[0m\n\u001b[1;32m---> 14\u001b[1;33m     \u001b[0mtrue\u001b[0m \u001b[1;33m=\u001b[0m \u001b[0mgd\u001b[0m\u001b[1;33m.\u001b[0m\u001b[0mdifferentiateGaussian\u001b[0m\u001b[1;33m(\u001b[0m\u001b[0mpoint\u001b[0m\u001b[1;33m,\u001b[0m \u001b[0mmu\u001b[0m\u001b[1;33m,\u001b[0m \u001b[0msigma\u001b[0m\u001b[1;33m)\u001b[0m\u001b[1;33m\u001b[0m\u001b[0m\n\u001b[0m\u001b[0;32m     15\u001b[0m     \u001b[0mapprox_fn\u001b[0m \u001b[1;33m=\u001b[0m \u001b[1;32mlambda\u001b[0m \u001b[0mx\u001b[0m\u001b[1;33m:\u001b[0m \u001b[0mgd\u001b[0m\u001b[1;33m.\u001b[0m\u001b[0mcomputeGaussian\u001b[0m\u001b[1;33m(\u001b[0m\u001b[0mx\u001b[0m\u001b[1;33m,\u001b[0m \u001b[0mmu\u001b[0m\u001b[1;33m,\u001b[0m \u001b[0msigma\u001b[0m\u001b[1;33m)\u001b[0m\u001b[1;33m\u001b[0m\u001b[0m\n\u001b[0;32m     16\u001b[0m     \u001b[0mapprox\u001b[0m \u001b[1;33m=\u001b[0m \u001b[0mgd\u001b[0m\u001b[1;33m.\u001b[0m\u001b[0mapproximateGradient\u001b[0m\u001b[1;33m(\u001b[0m\u001b[0mpoint\u001b[0m\u001b[1;33m,\u001b[0m \u001b[0mapprox_fn\u001b[0m\u001b[1;33m,\u001b[0m \u001b[0md\u001b[0m\u001b[1;33m)\u001b[0m\u001b[1;33m\u001b[0m\u001b[0m\n",
      "\u001b[1;32mC:\\Users\\Sitara\\Documents\\6867\\6867-Project1\\P1\\gradientDescent.py\u001b[0m in \u001b[0;36mdifferentiateGaussian\u001b[1;34m(x, mu, sigma)\u001b[0m\n\u001b[0;32m     52\u001b[0m     '''\n\u001b[0;32m     53\u001b[0m     \u001b[1;31m# print 'gaussian deriv: ',computeGaussian(x, mu, sigma)*np.dot(np.linalg.inv(sigma),(x-mu)), 'end'\u001b[0m\u001b[1;33m\u001b[0m\u001b[1;33m\u001b[0m\u001b[0m\n\u001b[1;32m---> 54\u001b[1;33m     \u001b[1;32mreturn\u001b[0m \u001b[1;33m-\u001b[0m\u001b[1;36m1.\u001b[0m\u001b[1;33m*\u001b[0m\u001b[0mcomputeGaussian\u001b[0m\u001b[1;33m(\u001b[0m\u001b[0mx\u001b[0m\u001b[1;33m,\u001b[0m \u001b[0mmu\u001b[0m\u001b[1;33m,\u001b[0m \u001b[0msigma\u001b[0m\u001b[1;33m)\u001b[0m\u001b[1;33m*\u001b[0m\u001b[0mnp\u001b[0m\u001b[1;33m.\u001b[0m\u001b[0mdot\u001b[0m\u001b[1;33m(\u001b[0m\u001b[0mnp\u001b[0m\u001b[1;33m.\u001b[0m\u001b[0mlinalg\u001b[0m\u001b[1;33m.\u001b[0m\u001b[0minv\u001b[0m\u001b[1;33m(\u001b[0m\u001b[0msigma\u001b[0m\u001b[1;33m)\u001b[0m\u001b[1;33m,\u001b[0m\u001b[1;33m(\u001b[0m\u001b[0mx\u001b[0m\u001b[1;33m-\u001b[0m\u001b[0mmu\u001b[0m\u001b[1;33m)\u001b[0m\u001b[1;33m)\u001b[0m\u001b[1;33m\u001b[0m\u001b[0m\n\u001b[0m\u001b[0;32m     55\u001b[0m \u001b[1;33m\u001b[0m\u001b[0m\n\u001b[0;32m     56\u001b[0m \u001b[1;32mdef\u001b[0m \u001b[0mcomputeQuadBowl\u001b[0m\u001b[1;33m(\u001b[0m\u001b[0mx\u001b[0m\u001b[1;33m,\u001b[0m\u001b[0mA\u001b[0m\u001b[1;33m,\u001b[0m\u001b[0mb\u001b[0m\u001b[1;33m)\u001b[0m\u001b[1;33m:\u001b[0m\u001b[1;33m\u001b[0m\u001b[0m\n",
      "\u001b[1;32mC:\\Users\\Sitara\\Documents\\6867\\6867-Project1\\P1\\gradientDescent.py\u001b[0m in \u001b[0;36mcomputeGaussian\u001b[1;34m(x, mu, sigma)\u001b[0m\n\u001b[0;32m     36\u001b[0m     \u001b[0msigma\u001b[0m \u001b[1;33m=\u001b[0m \u001b[0mnp\u001b[0m\u001b[1;33m.\u001b[0m\u001b[0marray\u001b[0m\u001b[1;33m(\u001b[0m\u001b[0msigma\u001b[0m\u001b[1;33m)\u001b[0m\u001b[1;33m\u001b[0m\u001b[0m\n\u001b[0;32m     37\u001b[0m \u001b[1;33m\u001b[0m\u001b[0m\n\u001b[1;32m---> 38\u001b[1;33m     \u001b[0mexponent\u001b[0m \u001b[1;33m=\u001b[0m \u001b[0mnp\u001b[0m\u001b[1;33m.\u001b[0m\u001b[0mdot\u001b[0m\u001b[1;33m(\u001b[0m\u001b[0mnp\u001b[0m\u001b[1;33m.\u001b[0m\u001b[0mlinalg\u001b[0m\u001b[1;33m.\u001b[0m\u001b[0minv\u001b[0m\u001b[1;33m(\u001b[0m\u001b[0msigma\u001b[0m\u001b[1;33m)\u001b[0m\u001b[1;33m,\u001b[0m\u001b[1;33m(\u001b[0m\u001b[0mx\u001b[0m\u001b[1;33m-\u001b[0m\u001b[0mmu\u001b[0m\u001b[1;33m)\u001b[0m\u001b[1;33m)\u001b[0m\u001b[1;33m\u001b[0m\u001b[0m\n\u001b[0m\u001b[0;32m     39\u001b[0m     \u001b[0mexponent\u001b[0m \u001b[1;33m=\u001b[0m \u001b[0mnp\u001b[0m\u001b[1;33m.\u001b[0m\u001b[0mdot\u001b[0m\u001b[1;33m(\u001b[0m\u001b[1;33m(\u001b[0m\u001b[0mx\u001b[0m\u001b[1;33m-\u001b[0m\u001b[0mmu\u001b[0m\u001b[1;33m)\u001b[0m\u001b[1;33m.\u001b[0m\u001b[0mT\u001b[0m\u001b[1;33m,\u001b[0m\u001b[0mexponent\u001b[0m\u001b[1;33m)\u001b[0m\u001b[1;33m\u001b[0m\u001b[0m\n\u001b[0;32m     40\u001b[0m     \u001b[1;32mreturn\u001b[0m \u001b[1;33m-\u001b[0m\u001b[1;36m1.\u001b[0m\u001b[1;33m/\u001b[0m\u001b[1;33m(\u001b[0m\u001b[0mnp\u001b[0m\u001b[1;33m.\u001b[0m\u001b[0mlinalg\u001b[0m\u001b[1;33m.\u001b[0m\u001b[0mdet\u001b[0m\u001b[1;33m(\u001b[0m\u001b[0msigma\u001b[0m\u001b[1;33m)\u001b[0m\u001b[1;33m**\u001b[0m\u001b[1;36m0.5\u001b[0m\u001b[1;33m*\u001b[0m\u001b[1;33m(\u001b[0m\u001b[0mnp\u001b[0m\u001b[1;33m.\u001b[0m\u001b[0mpower\u001b[0m\u001b[1;33m(\u001b[0m\u001b[1;36m2\u001b[0m\u001b[1;33m*\u001b[0m\u001b[0mnp\u001b[0m\u001b[1;33m.\u001b[0m\u001b[0mpi\u001b[0m\u001b[1;33m,\u001b[0m \u001b[0md\u001b[0m\u001b[1;33m/\u001b[0m\u001b[1;36m2\u001b[0m\u001b[1;33m)\u001b[0m\u001b[1;33m)\u001b[0m\u001b[1;33m)\u001b[0m \u001b[1;33m*\u001b[0m \u001b[0mnp\u001b[0m\u001b[1;33m.\u001b[0m\u001b[0mexp\u001b[0m\u001b[1;33m(\u001b[0m\u001b[1;33m-\u001b[0m\u001b[1;36m1.\u001b[0m\u001b[1;33m/\u001b[0m\u001b[1;36m2\u001b[0m \u001b[1;33m*\u001b[0m \u001b[0mexponent\u001b[0m \u001b[1;33m)\u001b[0m\u001b[1;33m\u001b[0m\u001b[0m\n",
      "\u001b[1;32mC:\\Users\\Sitara\\Anaconda2\\lib\\site-packages\\numpy\\linalg\\linalg.pyc\u001b[0m in \u001b[0;36minv\u001b[1;34m(a)\u001b[0m\n\u001b[0;32m    514\u001b[0m     \"\"\"\n\u001b[0;32m    515\u001b[0m     \u001b[0ma\u001b[0m\u001b[1;33m,\u001b[0m \u001b[0mwrap\u001b[0m \u001b[1;33m=\u001b[0m \u001b[0m_makearray\u001b[0m\u001b[1;33m(\u001b[0m\u001b[0ma\u001b[0m\u001b[1;33m)\u001b[0m\u001b[1;33m\u001b[0m\u001b[0m\n\u001b[1;32m--> 516\u001b[1;33m     \u001b[0m_assertRankAtLeast2\u001b[0m\u001b[1;33m(\u001b[0m\u001b[0ma\u001b[0m\u001b[1;33m)\u001b[0m\u001b[1;33m\u001b[0m\u001b[0m\n\u001b[0m\u001b[0;32m    517\u001b[0m     \u001b[0m_assertNdSquareness\u001b[0m\u001b[1;33m(\u001b[0m\u001b[0ma\u001b[0m\u001b[1;33m)\u001b[0m\u001b[1;33m\u001b[0m\u001b[0m\n\u001b[0;32m    518\u001b[0m     \u001b[0mt\u001b[0m\u001b[1;33m,\u001b[0m \u001b[0mresult_t\u001b[0m \u001b[1;33m=\u001b[0m \u001b[0m_commonType\u001b[0m\u001b[1;33m(\u001b[0m\u001b[0ma\u001b[0m\u001b[1;33m)\u001b[0m\u001b[1;33m\u001b[0m\u001b[0m\n",
      "\u001b[1;32mC:\\Users\\Sitara\\Anaconda2\\lib\\site-packages\\numpy\\linalg\\linalg.pyc\u001b[0m in \u001b[0;36m_assertRankAtLeast2\u001b[1;34m(*arrays)\u001b[0m\n\u001b[0;32m    200\u001b[0m         \u001b[1;32mif\u001b[0m \u001b[0mlen\u001b[0m\u001b[1;33m(\u001b[0m\u001b[0ma\u001b[0m\u001b[1;33m.\u001b[0m\u001b[0mshape\u001b[0m\u001b[1;33m)\u001b[0m \u001b[1;33m<\u001b[0m \u001b[1;36m2\u001b[0m\u001b[1;33m:\u001b[0m\u001b[1;33m\u001b[0m\u001b[0m\n\u001b[0;32m    201\u001b[0m             raise LinAlgError('%d-dimensional array given. Array must be '\n\u001b[1;32m--> 202\u001b[1;33m                     'at least two-dimensional' % len(a.shape))\n\u001b[0m\u001b[0;32m    203\u001b[0m \u001b[1;33m\u001b[0m\u001b[0m\n\u001b[0;32m    204\u001b[0m \u001b[1;32mdef\u001b[0m \u001b[0m_assertSquareness\u001b[0m\u001b[1;33m(\u001b[0m\u001b[1;33m*\u001b[0m\u001b[0marrays\u001b[0m\u001b[1;33m)\u001b[0m\u001b[1;33m:\u001b[0m\u001b[1;33m\u001b[0m\u001b[0m\n",
      "\u001b[1;31mLinAlgError\u001b[0m: 0-dimensional array given. Array must be at least two-dimensional"
     ]
    }
   ],
   "source": [
    "# For various values of delta, calculate the gradient using the closed form and the approximation of Gaussian\n",
    "# Use 1-D points for simpler visualization\n",
    "\n",
    "diffs = []\n",
    "deltas = [1e-8, 1e-6, 1e-4, 1e-2,1,10,1e2,1e4]\n",
    "\n",
    "x = 1\n",
    "mu = 0\n",
    "sigma = 1\n",
    "\n",
    "for d in deltas:\n",
    "    point = -100 + 200* np.random.random()\n",
    "\n",
    "    true = gd.differentiateGaussian(point, mu, sigma)\n",
    "    approx_fn = lambda x: gd.computeGaussian(x, mu, sigma)\n",
    "    approx = gd.approximateGradient(point, approx_fn, d)\n",
    "    \n",
    "    diffs.append(true-approx)\n",
    "    \n",
    "#Plot the difference in gradient value vs delta value\n",
    "pl.plot(np.log(deltas), diffs, '-bo')\n",
    "pl.ylabel('true gradient - approx gradient')\n",
    "pl.xlabel('log $ \\delta$')\n",
    "pl.title('Effect of $\\delta$ on the gradient approximation')\n",
    "pl.show()"
   ]
  },
  {
   "cell_type": "code",
   "execution_count": 16,
   "metadata": {
    "collapsed": false
   },
   "outputs": [
    {
     "ename": "ValueError",
     "evalue": "shapes (2,2) and (1,) not aligned: 2 (dim 1) != 1 (dim 0)",
     "output_type": "error",
     "traceback": [
      "\u001b[1;31m---------------------------------------------------------------------------\u001b[0m",
      "\u001b[1;31mValueError\u001b[0m                                Traceback (most recent call last)",
      "\u001b[1;32m<ipython-input-16-57405fe0e931>\u001b[0m in \u001b[0;36m<module>\u001b[1;34m()\u001b[0m\n\u001b[0;32m     10\u001b[0m     \u001b[0mtrue\u001b[0m \u001b[1;33m=\u001b[0m \u001b[0mgd\u001b[0m\u001b[1;33m.\u001b[0m\u001b[0mdifferentiateQuadBowl\u001b[0m\u001b[1;33m(\u001b[0m\u001b[0mpoint\u001b[0m\u001b[1;33m,\u001b[0m\u001b[0mquadBowlA\u001b[0m\u001b[1;33m,\u001b[0m\u001b[0mquadBowlb\u001b[0m\u001b[1;33m)\u001b[0m\u001b[1;33m\u001b[0m\u001b[0m\n\u001b[0;32m     11\u001b[0m     \u001b[0mapprox_fn\u001b[0m \u001b[1;33m=\u001b[0m \u001b[1;32mlambda\u001b[0m \u001b[0mx\u001b[0m\u001b[1;33m:\u001b[0m \u001b[0mgd\u001b[0m\u001b[1;33m.\u001b[0m\u001b[0mcomputeQuadBowl\u001b[0m\u001b[1;33m(\u001b[0m\u001b[0mx\u001b[0m\u001b[1;33m,\u001b[0m\u001b[0mquadBowlA\u001b[0m\u001b[1;33m,\u001b[0m\u001b[0mquadBowlb\u001b[0m\u001b[1;33m)\u001b[0m\u001b[1;33m\u001b[0m\u001b[0m\n\u001b[1;32m---> 12\u001b[1;33m     \u001b[0mapprox\u001b[0m \u001b[1;33m=\u001b[0m \u001b[0mgd\u001b[0m\u001b[1;33m.\u001b[0m\u001b[0mapproximateGradient\u001b[0m\u001b[1;33m(\u001b[0m\u001b[0mpoint\u001b[0m\u001b[1;33m,\u001b[0m \u001b[0mapprox_fn\u001b[0m\u001b[1;33m,\u001b[0m \u001b[0md\u001b[0m\u001b[1;33m)\u001b[0m\u001b[1;33m\u001b[0m\u001b[0m\n\u001b[0m\u001b[0;32m     13\u001b[0m \u001b[1;33m\u001b[0m\u001b[0m\n\u001b[0;32m     14\u001b[0m     \u001b[0mdiffs\u001b[0m\u001b[1;33m.\u001b[0m\u001b[0mappend\u001b[0m\u001b[1;33m(\u001b[0m\u001b[0mtrue\u001b[0m\u001b[1;33m-\u001b[0m\u001b[0mapprox\u001b[0m\u001b[1;33m)\u001b[0m\u001b[1;33m\u001b[0m\u001b[0m\n",
      "\u001b[1;32mC:\\Users\\Sitara\\Documents\\6867\\6867-Project1\\P1\\gradientDescent.py\u001b[0m in \u001b[0;36mapproximateGradient\u001b[1;34m(point, approx_fn, delta)\u001b[0m\n\u001b[0;32m    198\u001b[0m \u001b[1;33m\u001b[0m\u001b[0m\n\u001b[0;32m    199\u001b[0m \u001b[1;33m\u001b[0m\u001b[0m\n\u001b[1;32m--> 200\u001b[1;33m     \u001b[0mgradient\u001b[0m\u001b[1;33m.\u001b[0m\u001b[0mfill\u001b[0m\u001b[1;33m(\u001b[0m\u001b[0mapprox_fn\u001b[0m\u001b[1;33m(\u001b[0m\u001b[0mpoint\u001b[0m\u001b[1;33m+\u001b[0m\u001b[1;36m0.5\u001b[0m\u001b[1;33m*\u001b[0m\u001b[0mdelta\u001b[0m\u001b[1;33m)\u001b[0m \u001b[1;33m-\u001b[0m \u001b[0mapprox_fn\u001b[0m\u001b[1;33m(\u001b[0m\u001b[0mpoint\u001b[0m\u001b[1;33m-\u001b[0m\u001b[1;36m0.5\u001b[0m\u001b[1;33m*\u001b[0m\u001b[0mdelta\u001b[0m\u001b[1;33m)\u001b[0m \u001b[1;33m)\u001b[0m\u001b[1;33m\u001b[0m\u001b[0m\n\u001b[0m\u001b[0;32m    201\u001b[0m \u001b[1;33m\u001b[0m\u001b[0m\n\u001b[0;32m    202\u001b[0m     \u001b[1;32mreturn\u001b[0m \u001b[1;36m1.\u001b[0m\u001b[1;33m/\u001b[0m\u001b[0mdelta_val\u001b[0m\u001b[1;33m*\u001b[0m\u001b[0mgradient\u001b[0m\u001b[1;33m\u001b[0m\u001b[0m\n",
      "\u001b[1;32m<ipython-input-16-57405fe0e931>\u001b[0m in \u001b[0;36m<lambda>\u001b[1;34m(x)\u001b[0m\n\u001b[0;32m      9\u001b[0m \u001b[1;33m\u001b[0m\u001b[0m\n\u001b[0;32m     10\u001b[0m     \u001b[0mtrue\u001b[0m \u001b[1;33m=\u001b[0m \u001b[0mgd\u001b[0m\u001b[1;33m.\u001b[0m\u001b[0mdifferentiateQuadBowl\u001b[0m\u001b[1;33m(\u001b[0m\u001b[0mpoint\u001b[0m\u001b[1;33m,\u001b[0m\u001b[0mquadBowlA\u001b[0m\u001b[1;33m,\u001b[0m\u001b[0mquadBowlb\u001b[0m\u001b[1;33m)\u001b[0m\u001b[1;33m\u001b[0m\u001b[0m\n\u001b[1;32m---> 11\u001b[1;33m     \u001b[0mapprox_fn\u001b[0m \u001b[1;33m=\u001b[0m \u001b[1;32mlambda\u001b[0m \u001b[0mx\u001b[0m\u001b[1;33m:\u001b[0m \u001b[0mgd\u001b[0m\u001b[1;33m.\u001b[0m\u001b[0mcomputeQuadBowl\u001b[0m\u001b[1;33m(\u001b[0m\u001b[0mx\u001b[0m\u001b[1;33m,\u001b[0m\u001b[0mquadBowlA\u001b[0m\u001b[1;33m,\u001b[0m\u001b[0mquadBowlb\u001b[0m\u001b[1;33m)\u001b[0m\u001b[1;33m\u001b[0m\u001b[0m\n\u001b[0m\u001b[0;32m     12\u001b[0m     \u001b[0mapprox\u001b[0m \u001b[1;33m=\u001b[0m \u001b[0mgd\u001b[0m\u001b[1;33m.\u001b[0m\u001b[0mapproximateGradient\u001b[0m\u001b[1;33m(\u001b[0m\u001b[0mpoint\u001b[0m\u001b[1;33m,\u001b[0m \u001b[0mapprox_fn\u001b[0m\u001b[1;33m,\u001b[0m \u001b[0md\u001b[0m\u001b[1;33m)\u001b[0m\u001b[1;33m\u001b[0m\u001b[0m\n\u001b[0;32m     13\u001b[0m \u001b[1;33m\u001b[0m\u001b[0m\n",
      "\u001b[1;32mC:\\Users\\Sitara\\Documents\\6867\\6867-Project1\\P1\\gradientDescent.py\u001b[0m in \u001b[0;36mcomputeQuadBowl\u001b[1;34m(x, A, b)\u001b[0m\n\u001b[0;32m     65\u001b[0m     \u001b[1;33m@\u001b[0m\u001b[0moutput\u001b[0m\u001b[1;33m:\u001b[0m \u001b[0mresult\u001b[0m \u001b[1;33m-\u001b[0m \u001b[0ma\u001b[0m \u001b[0mvector\u001b[0m \u001b[1;32mwith\u001b[0m \u001b[0mthe\u001b[0m \u001b[0mdimensions\u001b[0m \u001b[0mof\u001b[0m \u001b[0mx\u001b[0m \u001b[0mwhich\u001b[0m \u001b[1;32mis\u001b[0m \u001b[0mthe\u001b[0m \u001b[0mresult\u001b[0m \u001b[0mof\u001b[0m \u001b[0mthe\u001b[0m \u001b[0mfunction\u001b[0m \u001b[0mevaluation\u001b[0m\u001b[1;33m\u001b[0m\u001b[0m\n\u001b[0;32m     66\u001b[0m     '''\n\u001b[1;32m---> 67\u001b[1;33m     \u001b[1;32mreturn\u001b[0m \u001b[0mnp\u001b[0m\u001b[1;33m.\u001b[0m\u001b[0mdot\u001b[0m\u001b[1;33m(\u001b[0m\u001b[0mx\u001b[0m\u001b[1;33m,\u001b[0m\u001b[1;33m(\u001b[0m\u001b[1;36m1\u001b[0m\u001b[1;33m/\u001b[0m\u001b[1;36m2\u001b[0m\u001b[1;33m*\u001b[0m\u001b[0mnp\u001b[0m\u001b[1;33m.\u001b[0m\u001b[0mdot\u001b[0m\u001b[1;33m(\u001b[0m\u001b[0mA\u001b[0m\u001b[1;33m,\u001b[0m\u001b[0mx\u001b[0m\u001b[1;33m)\u001b[0m\u001b[1;33m-\u001b[0m\u001b[0mb\u001b[0m\u001b[1;33m)\u001b[0m\u001b[1;33m)\u001b[0m\u001b[1;33m\u001b[0m\u001b[0m\n\u001b[0m\u001b[0;32m     68\u001b[0m \u001b[1;33m\u001b[0m\u001b[0m\n\u001b[0;32m     69\u001b[0m \u001b[1;32mdef\u001b[0m \u001b[0mdifferentiateQuadBowl\u001b[0m\u001b[1;33m(\u001b[0m\u001b[0mx\u001b[0m\u001b[1;33m,\u001b[0m\u001b[0mA\u001b[0m\u001b[1;33m,\u001b[0m\u001b[0mb\u001b[0m\u001b[1;33m)\u001b[0m\u001b[1;33m:\u001b[0m\u001b[1;33m\u001b[0m\u001b[0m\n",
      "\u001b[1;31mValueError\u001b[0m: shapes (2,2) and (1,) not aligned: 2 (dim 1) != 1 (dim 0)"
     ]
    }
   ],
   "source": [
    "# For various values of delta, calculate the gradient using the closed form and the approximation of Quadratic Bowl\n",
    "# Use 1-D points for simpler visualization\n",
    "\n",
    "diffs = []\n",
    "deltas = [1e-8, 1e-6, 1e-4, 1e-2,1,10,1e2,1e4]\n",
    "\n",
    "for d in deltas:\n",
    "    point = -100 + 200* np.random.random()\n",
    "\n",
    "    true = gd.differentiateQuadBowl(point,quadBowlA,quadBowlb)\n",
    "    approx_fn = lambda x: gd.computeQuadBowl(x,quadBowlA,quadBowlb)\n",
    "    approx = gd.approximateGradient(point, approx_fn, d)\n",
    "    \n",
    "    diffs.append(true-approx)\n",
    "\n",
    "#Plot the difference in gradient value vs delta value\n",
    "pl.plot(x=deltas, y=diffs)\n",
    "pl.show()"
   ]
  },
  {
   "cell_type": "markdown",
   "metadata": {},
   "source": [
    "## 3. In machine learning and statistical estimation context, batch gradient descent uses samples from the full training set for each parameter update. \n",
    "Thus, each iteration would be slow for a large dataset. In addition, the native form of batch gradient descent does not provide a way to incorporate new data efficiently (i.e., in an online setting). Stochastic gradient descent (SGD)\n",
    "addresses these problems by using stochastic approximation on the gradient term (See Bishop\n",
    "3.1.3, 5.2.4 and Wikipedia). In this question, we will use both batch gradient descent and SGD\n",
    "on a least square fitting problem.\n",
    "The dataset is provided in fittingdatap1 x.txt and fittingdatap1 y.txt. Each row of X and\n",
    "y represents a single data sample pair (x(i), y(i)) and your goal is to find a coefficient vector θ\n",
    "that minimizes the least square error of $J(θ) = ||X\\cdotθ − y||^2$. In this question, you don’t need to augment X\n",
    "with 1’s as we did in the lecture. Notice that J(θ) is natively a function over the whole dataset\n",
    "and there is a closed-form solution to this problem (Bishop Equation (3.15)), which would be\n",
    "useful for checking your answers."
   ]
  },
  {
   "cell_type": "markdown",
   "metadata": {},
   "source": [
    "a) Use batch gradient descent on J(θ) with a fixed step size. This would be the case where the\n",
    "gradient of the cost function for the entire training dataset is used in each parameter update.\n"
   ]
  },
  {
   "cell_type": "code",
   "execution_count": null,
   "metadata": {
    "collapsed": false
   },
   "outputs": [],
   "source": [
    "# Run batch gradient descent with a squared error objective function\n",
    "\n",
    "#Load data set\n",
    "X, Y = fitData.getData()\n",
    "initial_guess=np.zeros(len(X[0]))\n",
    "initial_guess.fill(np.random.random())\n",
    "\n",
    "objective_fn = lambda theta : gd.computeSquaredLoss(X, Y, theta)\n",
    "gradient_fn = lambda theta: gd.differentiateSquaredLoss(X,Y,theta)\n",
    "                                                                                        \n",
    "best_guess, best_value, guess, fxn, norm = gd.gradientDescent(objective_fn,\n",
    "                                                              gradient_fn,\n",
    "                                                              initial_guess= initial_guess, \n",
    "                                                              step_size=0.1,\n",
    "                                                              convergence = 1e-4)\n",
    "\n",
    "print 'Least squares converged to: ', best_guess, best_value"
   ]
  },
  {
   "cell_type": "markdown",
   "metadata": {},
   "source": [
    "b) In contrast to batch gradient descent, which uses all training data in every parameter update,\n",
    "SGD performs a parameter update based on a single training example:\n",
    "θt+1 = θt − ηt∇θJ(θt\n",
    "; x\n",
    "(i)\n",
    ", y(i)\n",
    "),\n",
    "where ηt\n",
    "is the learning rate for each iteration t = 1, 2, ... and J(θt\n",
    "; x\n",
    "(i)\n",
    ", y(i)\n",
    ") = (x\n",
    "(i)T\n",
    "θt−y\n",
    "(i)\n",
    ")\n",
    "2\n",
    "is\n",
    "the objective function in terms of a single data sample. Write a general procedure that performs\n",
    "SGD on this dataset. You should first derive the point-wise (with respect to a single data\n",
    "sample) gradient function, ∇θJ(θt\n",
    "; x\n",
    "(i)\n",
    ", y(i)\n",
    "). Then write a procedure to perform parameter\n",
    "update by iterating through the samples in the dataset for some number of rounds until a\n",
    "stopping criterion is reached (such as convergence of the full objective function over all data\n",
    "points)."
   ]
  },
  {
   "cell_type": "markdown",
   "metadata": {},
   "source": [
    "c) Compare the behavior of the two implementations in terms of accuracy and number of evaluations\n",
    "of the point-wise gradient, ∇θJ(θt\n",
    "; x\n",
    "(i)\n",
    ", y(i)\n",
    "). That is, each iteration of batch gradient\n",
    "descent takes n (the number of total samples) evaluations of the point-wise gradients, whereas\n",
    "each iteration of SGD takes one evaluation of it.\n"
   ]
  },
  {
   "cell_type": "code",
   "execution_count": 5,
   "metadata": {
    "collapsed": false
   },
   "outputs": [
    {
     "ename": "NameError",
     "evalue": "name 'X' is not defined",
     "output_type": "error",
     "traceback": [
      "\u001b[1;31m---------------------------------------------------------------------------\u001b[0m",
      "\u001b[1;31mNameError\u001b[0m                                 Traceback (most recent call last)",
      "\u001b[1;32m<ipython-input-5-664a1d1b6d44>\u001b[0m in \u001b[0;36m<module>\u001b[1;34m()\u001b[0m\n\u001b[0;32m      1\u001b[0m \u001b[1;31m# Run stochastic gradient descent on the given dataset then compare it with the previous batch gradient descent\u001b[0m\u001b[1;33m\u001b[0m\u001b[1;33m\u001b[0m\u001b[0m\n\u001b[1;32m----> 2\u001b[1;33m best_guess, best_value, guess, fxn, grad_norm = gd.stochasticGradientDescent(x = X,\n\u001b[0m\u001b[0;32m      3\u001b[0m                                                                      \u001b[0my\u001b[0m \u001b[1;33m=\u001b[0m \u001b[0mY\u001b[0m\u001b[1;33m,\u001b[0m\u001b[1;33m\u001b[0m\u001b[0m\n\u001b[0;32m      4\u001b[0m                                                                      \u001b[0mobjective_fn\u001b[0m \u001b[1;33m=\u001b[0m \u001b[0mobjective_fn\u001b[0m\u001b[1;33m,\u001b[0m\u001b[1;33m\u001b[0m\u001b[0m\n\u001b[0;32m      5\u001b[0m                                                                      \u001b[0mgradient_fn\u001b[0m \u001b[1;33m=\u001b[0m \u001b[0mgradient_fn\u001b[0m\u001b[1;33m,\u001b[0m\u001b[1;33m\u001b[0m\u001b[0m\n",
      "\u001b[1;31mNameError\u001b[0m: name 'X' is not defined"
     ]
    }
   ],
   "source": [
    "#Load data set\n",
    "X, Y = fitData.getData()\n",
    "initial_guess=np.zeros(len(X[0]))\n",
    "initial_guess.fill(np.random.random())\n",
    "\n",
    "# Run stochastic gradient descent on the given dataset then compare it with the previous batch gradient descent\n",
    "best_guess, best_value, guess, fxn, grad_norm = gd.stochasticGradientDescent(x = X,\n",
    "                                                                     y = Y, \n",
    "                                                                     objective_fn = objective_fn,\n",
    "                                                                     gradient_fn = gradient_fn,\n",
    "                                                                     initial_guess= [np.random.randint(0,100),np.random.randint(0,100)], \n",
    "                                                                     step_size=1e-5,\n",
    "                                                                     convergence = 1e-4)\n",
    "\n",
    "num_iters = len(grad_norm)\n",
    "print 'Stochastic gradient descent converged to ', best_value, ' in ', num_iters, ' iterations'\n",
    "\n",
    "# Plot how the norm changes over time \n",
    "pl.plot(range(num_iters), grad_norm)\n",
    "pl.show()\n",
    "\n",
    "# Plot how the function value changes over time\n",
    "pl.plot(range(num_iters), fxn)\n",
    "pl.show()\n"
   ]
  },
  {
   "cell_type": "code",
   "execution_count": null,
   "metadata": {
    "collapsed": true
   },
   "outputs": [],
   "source": []
  }
 ],
 "metadata": {
  "anaconda-cloud": {},
  "kernelspec": {
   "display_name": "Python [Root]",
   "language": "python",
   "name": "Python [Root]"
  },
  "language_info": {
   "codemirror_mode": {
    "name": "ipython",
    "version": 2
   },
   "file_extension": ".py",
   "mimetype": "text/x-python",
   "name": "python",
   "nbconvert_exporter": "python",
   "pygments_lexer": "ipython2",
   "version": "2.7.12"
  }
 },
 "nbformat": 4,
 "nbformat_minor": 0
}
