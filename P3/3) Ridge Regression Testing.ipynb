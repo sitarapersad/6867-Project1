{
 "cells": [
  {
   "cell_type": "code",
   "execution_count": 3,
   "metadata": {
    "collapsed": false
   },
   "outputs": [],
   "source": [
    "import pylab as pl\n",
    "import numpy as np\n",
    "import pandas \n",
    "import regressData as data\n",
    "import ridgeRegression as rr"
   ]
  },
  {
   "cell_type": "markdown",
   "metadata": {},
   "source": [
    "1. Implement ridge regression (see Bishop equation 3.27, 3.28); the closed-form solution for the optimal solution of ridge regression is easy to calculate so do not use gradient descent for 3.1 and 3.2.  Use the polynomial basis function for 3.1 and 3.2. Experiment with different values of $\\lambda$ on the simple data from the previous question (curvefittingp2.txt), for various values of $M$. Describe your observations.\n",
    "\n",
    "    - BISHOP 3.27: $\\frac{1}{2} \\sum_{n = 1}^{N} \\{t_n - w^{T}\\phi(x_n)\\}^2 + \\frac{\\lambda}{2}w^{T}w$ \n",
    "\n",
    "    - BISHOP 3.28: $w = (\\lambda I + \\phi^{T}\\phi)^{-1}\\phi^{T}t$\n",
    "\n"
   ]
  },
  {
   "cell_type": "code",
   "execution_count": null,
   "metadata": {
    "collapsed": true
   },
   "outputs": [],
   "source": []
  }
 ],
 "metadata": {
  "kernelspec": {
   "display_name": "Python [Root]",
   "language": "python",
   "name": "Python [Root]"
  },
  "language_info": {
   "codemirror_mode": {
    "name": "ipython",
    "version": 2
   },
   "file_extension": ".py",
   "mimetype": "text/x-python",
   "name": "python",
   "nbconvert_exporter": "python",
   "pygments_lexer": "ipython2",
   "version": "2.7.12"
  }
 },
 "nbformat": 4,
 "nbformat_minor": 0
}
